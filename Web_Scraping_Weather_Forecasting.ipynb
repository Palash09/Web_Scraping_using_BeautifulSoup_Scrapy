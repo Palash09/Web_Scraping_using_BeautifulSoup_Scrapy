{
 "cells": [
  {
   "cell_type": "markdown",
   "metadata": {},
   "source": [
    "## Import the Library"
   ]
  },
  {
   "cell_type": "code",
   "execution_count": 1,
   "metadata": {
    "collapsed": true
   },
   "outputs": [],
   "source": [
    "from bs4 import BeautifulSoup\n",
    "import requests"
   ]
  },
  {
   "cell_type": "markdown",
   "metadata": {},
   "source": [
    "#### Download the web page containing the forecast."
   ]
  },
  {
   "cell_type": "code",
   "execution_count": 2,
   "metadata": {
    "collapsed": true
   },
   "outputs": [],
   "source": [
    "page = requests.get(\"http://forecast.weather.gov/MapClick.php?lat=37.7772&lon=-122.4168\")"
   ]
  },
  {
   "cell_type": "markdown",
   "metadata": {},
   "source": [
    "#### Create a BeautifulSoup class to parse the page."
   ]
  },
  {
   "cell_type": "code",
   "execution_count": 3,
   "metadata": {
    "collapsed": true
   },
   "outputs": [],
   "source": [
    "soup = BeautifulSoup(page.content, 'html.parser')"
   ]
  },
  {
   "cell_type": "markdown",
   "metadata": {},
   "source": [
    "#### Find the div with id seven-day-forecast, and assign to seven_day"
   ]
  },
  {
   "cell_type": "code",
   "execution_count": 4,
   "metadata": {
    "collapsed": true
   },
   "outputs": [],
   "source": [
    "seven_day = soup.find(id=\"seven-day-forecast\")"
   ]
  },
  {
   "cell_type": "markdown",
   "metadata": {},
   "source": [
    "#### Inside seven_day, find each individual forecast item."
   ]
  },
  {
   "cell_type": "code",
   "execution_count": 5,
   "metadata": {
    "collapsed": true
   },
   "outputs": [],
   "source": [
    "forecast_items = seven_day.find_all(class_=\"tombstone-container\")"
   ]
  },
  {
   "cell_type": "markdown",
   "metadata": {},
   "source": [
    "#### Extract and print the first forecast item."
   ]
  },
  {
   "cell_type": "code",
   "execution_count": 6,
   "metadata": {},
   "outputs": [
    {
     "name": "stdout",
     "output_type": "stream",
     "text": [
      "<div class=\"tombstone-container\">\n",
      " <p class=\"period-name\">\n",
      "  Today\n",
      "  <br/>\n",
      "  <br/>\n",
      " </p>\n",
      " <p>\n",
      "  <img alt=\"Today: Sunny, with a high near 56. Breezy, with a north wind around 25 mph, with gusts as high as 33 mph. \" class=\"forecast-icon\" src=\"newimages/medium/wind_few.png\" title=\"Today: Sunny, with a high near 56. Breezy, with a north wind around 25 mph, with gusts as high as 33 mph. \"/>\n",
      " </p>\n",
      " <p class=\"short-desc\">\n",
      "  Sunny and\n",
      "  <br/>\n",
      "  Breezy\n",
      " </p>\n",
      " <p class=\"temp temp-high\">\n",
      "  High: 56 °F\n",
      " </p>\n",
      "</div>\n"
     ]
    }
   ],
   "source": [
    "tonight = forecast_items[0]\n",
    "print(tonight.prettify())"
   ]
  },
  {
   "cell_type": "markdown",
   "metadata": {},
   "source": [
    "#### We'll extract the name of the forecast item"
   ]
  },
  {
   "cell_type": "code",
   "execution_count": 8,
   "metadata": {},
   "outputs": [
    {
     "name": "stdout",
     "output_type": "stream",
     "text": [
      "Today\n",
      "Sunny andBreezy\n",
      "High: 56 °F\n"
     ]
    }
   ],
   "source": [
    "period = tonight.find(class_ = \"period-name\").get_text()\n",
    "short_Desc = tonight.find(class_ = \"short-desc\").get_text()\n",
    "temp = tonight.find(class_ = \"temp temp-high\").get_text()\n",
    "\n",
    "print(period)\n",
    "print(short_Desc)\n",
    "print(temp)"
   ]
  },
  {
   "cell_type": "markdown",
   "metadata": {},
   "source": [
    "#### we can extract the title attribute from the img tag"
   ]
  },
  {
   "cell_type": "code",
   "execution_count": 9,
   "metadata": {
    "collapsed": true
   },
   "outputs": [],
   "source": [
    "img = tonight.find('img')"
   ]
  },
  {
   "cell_type": "code",
   "execution_count": 10,
   "metadata": {},
   "outputs": [
    {
     "data": {
      "text/plain": [
       "'<img alt=\"Today: Sunny, with a high near 56. Breezy, with a north wind around 25 mph, with gusts as high as 33 mph. \" class=\"forecast-icon\" src=\"newimages/medium/wind_few.png\" title=\"Today: Sunny, with a high near 56. Breezy, with a north wind around 25 mph, with gusts as high as 33 mph. \"/>\\n'"
      ]
     },
     "execution_count": 10,
     "metadata": {},
     "output_type": "execute_result"
    }
   ],
   "source": [
    "img.prettify()"
   ]
  },
  {
   "cell_type": "code",
   "execution_count": 11,
   "metadata": {},
   "outputs": [
    {
     "name": "stdout",
     "output_type": "stream",
     "text": [
      "Today: Sunny, with a high near 56. Breezy, with a north wind around 25 mph, with gusts as high as 33 mph. \n"
     ]
    }
   ],
   "source": [
    "desc =img['title']\n",
    "print(desc)"
   ]
  },
  {
   "cell_type": "markdown",
   "metadata": {},
   "source": [
    "#### I use list comprehension to call the get_text method on each BeautifulSoup object"
   ]
  },
  {
   "cell_type": "code",
   "execution_count": 12,
   "metadata": {},
   "outputs": [
    {
     "data": {
      "text/plain": [
       "['Today',\n",
       " 'Tonight',\n",
       " \"NewYear'sDay\",\n",
       " 'TuesdayNight',\n",
       " 'Wednesday',\n",
       " 'WednesdayNight',\n",
       " 'Thursday',\n",
       " 'ThursdayNight',\n",
       " 'Friday']"
      ]
     },
     "execution_count": 12,
     "metadata": {},
     "output_type": "execute_result"
    }
   ],
   "source": [
    "period_tags = seven_day.select(\".tombstone-container .period-name\")\n",
    "periods = [pt.get_text() for pt in period_tags]\n",
    "periods"
   ]
  },
  {
   "cell_type": "code",
   "execution_count": 13,
   "metadata": {},
   "outputs": [
    {
     "name": "stdout",
     "output_type": "stream",
     "text": [
      "['Sunny andBreezy', 'Clear andBreezy', 'Sunny', 'Mostly Clear', 'Sunny', 'Mostly Clear', 'Mostly Sunny', 'Partly Cloudy', 'Partly Sunny']\n",
      "['High: 56 °F', 'Low: 42 °F', 'High: 54 °F', 'Low: 42 °F', 'High: 55 °F', 'Low: 43 °F', 'High: 56 °F', 'Low: 45 °F', 'High: 57 °F']\n",
      "['Today: Sunny, with a high near 56. Breezy, with a north wind around 25 mph, with gusts as high as 33 mph. ', 'Tonight: Clear, with a low around 42. Breezy, with a northeast wind 19 to 24 mph decreasing to 13 to 18 mph after midnight. Winds could gust as high as 31 mph. ', \"New Year's Day: Sunny, with a high near 54. North northeast wind 5 to 10 mph. \", 'Tuesday Night: Mostly clear, with a low around 42. Northeast wind 6 to 9 mph becoming south southeast in the evening. ', 'Wednesday: Sunny, with a high near 55. Southeast wind around 5 mph becoming north in the morning. ', 'Wednesday Night: Mostly clear, with a low around 43.', 'Thursday: Mostly sunny, with a high near 56.', 'Thursday Night: Partly cloudy, with a low around 45.', 'Friday: Partly sunny, with a high near 57.']\n"
     ]
    }
   ],
   "source": [
    "short_descs = [sd.get_text() for sd in seven_day.select(\".tombstone-container .short-desc\")]\n",
    "temps = [t.get_text() for t in seven_day.select(\".tombstone-container .temp\")]\n",
    "descs = [d[\"title\"] for d in seven_day.select(\".tombstone-container img\")]\n",
    "\n",
    "print(short_descs)\n",
    "print(temps)\n",
    "print(descs)"
   ]
  },
  {
   "cell_type": "markdown",
   "metadata": {},
   "source": [
    "#### Combining our data into a Pandas Dataframe"
   ]
  },
  {
   "cell_type": "code",
   "execution_count": 14,
   "metadata": {},
   "outputs": [
    {
     "data": {
      "text/html": [
       "<div>\n",
       "<style scoped>\n",
       "    .dataframe tbody tr th:only-of-type {\n",
       "        vertical-align: middle;\n",
       "    }\n",
       "\n",
       "    .dataframe tbody tr th {\n",
       "        vertical-align: top;\n",
       "    }\n",
       "\n",
       "    .dataframe thead th {\n",
       "        text-align: right;\n",
       "    }\n",
       "</style>\n",
       "<table border=\"1\" class=\"dataframe\">\n",
       "  <thead>\n",
       "    <tr style=\"text-align: right;\">\n",
       "      <th></th>\n",
       "      <th>period</th>\n",
       "      <th>short_desc</th>\n",
       "      <th>temp</th>\n",
       "      <th>desc</th>\n",
       "    </tr>\n",
       "  </thead>\n",
       "  <tbody>\n",
       "    <tr>\n",
       "      <th>0</th>\n",
       "      <td>Today</td>\n",
       "      <td>Sunny andBreezy</td>\n",
       "      <td>High: 56 °F</td>\n",
       "      <td>Today: Sunny, with a high near 56. Breezy, wit...</td>\n",
       "    </tr>\n",
       "    <tr>\n",
       "      <th>1</th>\n",
       "      <td>Tonight</td>\n",
       "      <td>Clear andBreezy</td>\n",
       "      <td>Low: 42 °F</td>\n",
       "      <td>Tonight: Clear, with a low around 42. Breezy, ...</td>\n",
       "    </tr>\n",
       "    <tr>\n",
       "      <th>2</th>\n",
       "      <td>NewYear'sDay</td>\n",
       "      <td>Sunny</td>\n",
       "      <td>High: 54 °F</td>\n",
       "      <td>New Year's Day: Sunny, with a high near 54. No...</td>\n",
       "    </tr>\n",
       "    <tr>\n",
       "      <th>3</th>\n",
       "      <td>TuesdayNight</td>\n",
       "      <td>Mostly Clear</td>\n",
       "      <td>Low: 42 °F</td>\n",
       "      <td>Tuesday Night: Mostly clear, with a low around...</td>\n",
       "    </tr>\n",
       "    <tr>\n",
       "      <th>4</th>\n",
       "      <td>Wednesday</td>\n",
       "      <td>Sunny</td>\n",
       "      <td>High: 55 °F</td>\n",
       "      <td>Wednesday: Sunny, with a high near 55. Southea...</td>\n",
       "    </tr>\n",
       "    <tr>\n",
       "      <th>5</th>\n",
       "      <td>WednesdayNight</td>\n",
       "      <td>Mostly Clear</td>\n",
       "      <td>Low: 43 °F</td>\n",
       "      <td>Wednesday Night: Mostly clear, with a low arou...</td>\n",
       "    </tr>\n",
       "    <tr>\n",
       "      <th>6</th>\n",
       "      <td>Thursday</td>\n",
       "      <td>Mostly Sunny</td>\n",
       "      <td>High: 56 °F</td>\n",
       "      <td>Thursday: Mostly sunny, with a high near 56.</td>\n",
       "    </tr>\n",
       "    <tr>\n",
       "      <th>7</th>\n",
       "      <td>ThursdayNight</td>\n",
       "      <td>Partly Cloudy</td>\n",
       "      <td>Low: 45 °F</td>\n",
       "      <td>Thursday Night: Partly cloudy, with a low arou...</td>\n",
       "    </tr>\n",
       "    <tr>\n",
       "      <th>8</th>\n",
       "      <td>Friday</td>\n",
       "      <td>Partly Sunny</td>\n",
       "      <td>High: 57 °F</td>\n",
       "      <td>Friday: Partly sunny, with a high near 57.</td>\n",
       "    </tr>\n",
       "  </tbody>\n",
       "</table>\n",
       "</div>"
      ],
      "text/plain": [
       "           period       short_desc         temp  \\\n",
       "0           Today  Sunny andBreezy  High: 56 °F   \n",
       "1         Tonight  Clear andBreezy   Low: 42 °F   \n",
       "2    NewYear'sDay            Sunny  High: 54 °F   \n",
       "3    TuesdayNight     Mostly Clear   Low: 42 °F   \n",
       "4       Wednesday            Sunny  High: 55 °F   \n",
       "5  WednesdayNight     Mostly Clear   Low: 43 °F   \n",
       "6        Thursday     Mostly Sunny  High: 56 °F   \n",
       "7   ThursdayNight    Partly Cloudy   Low: 45 °F   \n",
       "8          Friday     Partly Sunny  High: 57 °F   \n",
       "\n",
       "                                                desc  \n",
       "0  Today: Sunny, with a high near 56. Breezy, wit...  \n",
       "1  Tonight: Clear, with a low around 42. Breezy, ...  \n",
       "2  New Year's Day: Sunny, with a high near 54. No...  \n",
       "3  Tuesday Night: Mostly clear, with a low around...  \n",
       "4  Wednesday: Sunny, with a high near 55. Southea...  \n",
       "5  Wednesday Night: Mostly clear, with a low arou...  \n",
       "6       Thursday: Mostly sunny, with a high near 56.  \n",
       "7  Thursday Night: Partly cloudy, with a low arou...  \n",
       "8         Friday: Partly sunny, with a high near 57.  "
      ]
     },
     "execution_count": 14,
     "metadata": {},
     "output_type": "execute_result"
    }
   ],
   "source": [
    "import pandas as pd\n",
    "weather = pd.DataFrame({\n",
    "        \"period\": periods, \n",
    "        \"short_desc\": short_descs, \n",
    "        \"temp\": temps, \n",
    "        \"desc\":descs\n",
    "    })\n",
    "weather"
   ]
  },
  {
   "cell_type": "markdown",
   "metadata": {},
   "source": [
    "#### Use a regular expression and the Series.str.extract method to pull out the numeric temperature values:"
   ]
  },
  {
   "cell_type": "code",
   "execution_count": 15,
   "metadata": {},
   "outputs": [
    {
     "data": {
      "text/plain": [
       "0    56\n",
       "1    42\n",
       "2    54\n",
       "3    42\n",
       "4    55\n",
       "5    43\n",
       "6    56\n",
       "7    45\n",
       "8    57\n",
       "Name: temp_num, dtype: object"
      ]
     },
     "execution_count": 15,
     "metadata": {},
     "output_type": "execute_result"
    }
   ],
   "source": [
    "temp_nums = weather[\"temp\"].str.extract(\"(?P<temp_num>\\d+)\", expand=False)\n",
    "weather[\"temp_num\"] = temp_nums.astype('int')\n",
    "temp_nums"
   ]
  },
  {
   "cell_type": "code",
   "execution_count": 16,
   "metadata": {},
   "outputs": [
    {
     "data": {
      "text/plain": [
       "50.0"
      ]
     },
     "execution_count": 16,
     "metadata": {},
     "output_type": "execute_result"
    }
   ],
   "source": [
    "weather[\"temp_num\"].mean()"
   ]
  },
  {
   "cell_type": "code",
   "execution_count": 17,
   "metadata": {},
   "outputs": [
    {
     "data": {
      "text/plain": [
       "0    False\n",
       "1     True\n",
       "2    False\n",
       "3     True\n",
       "4    False\n",
       "5     True\n",
       "6    False\n",
       "7     True\n",
       "8    False\n",
       "Name: temp, dtype: bool"
      ]
     },
     "execution_count": 17,
     "metadata": {},
     "output_type": "execute_result"
    }
   ],
   "source": [
    "is_night = weather[\"temp\"].str.contains(\"Low\")\n",
    "weather[\"is_night\"] = is_night\n",
    "is_night"
   ]
  },
  {
   "cell_type": "code",
   "execution_count": 18,
   "metadata": {},
   "outputs": [
    {
     "data": {
      "text/html": [
       "<div>\n",
       "<style scoped>\n",
       "    .dataframe tbody tr th:only-of-type {\n",
       "        vertical-align: middle;\n",
       "    }\n",
       "\n",
       "    .dataframe tbody tr th {\n",
       "        vertical-align: top;\n",
       "    }\n",
       "\n",
       "    .dataframe thead th {\n",
       "        text-align: right;\n",
       "    }\n",
       "</style>\n",
       "<table border=\"1\" class=\"dataframe\">\n",
       "  <thead>\n",
       "    <tr style=\"text-align: right;\">\n",
       "      <th></th>\n",
       "      <th>period</th>\n",
       "      <th>short_desc</th>\n",
       "      <th>temp</th>\n",
       "      <th>desc</th>\n",
       "      <th>temp_num</th>\n",
       "      <th>is_night</th>\n",
       "    </tr>\n",
       "  </thead>\n",
       "  <tbody>\n",
       "    <tr>\n",
       "      <th>1</th>\n",
       "      <td>Tonight</td>\n",
       "      <td>Clear andBreezy</td>\n",
       "      <td>Low: 42 °F</td>\n",
       "      <td>Tonight: Clear, with a low around 42. Breezy, ...</td>\n",
       "      <td>42</td>\n",
       "      <td>True</td>\n",
       "    </tr>\n",
       "    <tr>\n",
       "      <th>3</th>\n",
       "      <td>TuesdayNight</td>\n",
       "      <td>Mostly Clear</td>\n",
       "      <td>Low: 42 °F</td>\n",
       "      <td>Tuesday Night: Mostly clear, with a low around...</td>\n",
       "      <td>42</td>\n",
       "      <td>True</td>\n",
       "    </tr>\n",
       "    <tr>\n",
       "      <th>5</th>\n",
       "      <td>WednesdayNight</td>\n",
       "      <td>Mostly Clear</td>\n",
       "      <td>Low: 43 °F</td>\n",
       "      <td>Wednesday Night: Mostly clear, with a low arou...</td>\n",
       "      <td>43</td>\n",
       "      <td>True</td>\n",
       "    </tr>\n",
       "    <tr>\n",
       "      <th>7</th>\n",
       "      <td>ThursdayNight</td>\n",
       "      <td>Partly Cloudy</td>\n",
       "      <td>Low: 45 °F</td>\n",
       "      <td>Thursday Night: Partly cloudy, with a low arou...</td>\n",
       "      <td>45</td>\n",
       "      <td>True</td>\n",
       "    </tr>\n",
       "  </tbody>\n",
       "</table>\n",
       "</div>"
      ],
      "text/plain": [
       "           period       short_desc        temp  \\\n",
       "1         Tonight  Clear andBreezy  Low: 42 °F   \n",
       "3    TuesdayNight     Mostly Clear  Low: 42 °F   \n",
       "5  WednesdayNight     Mostly Clear  Low: 43 °F   \n",
       "7   ThursdayNight    Partly Cloudy  Low: 45 °F   \n",
       "\n",
       "                                                desc  temp_num  is_night  \n",
       "1  Tonight: Clear, with a low around 42. Breezy, ...        42      True  \n",
       "3  Tuesday Night: Mostly clear, with a low around...        42      True  \n",
       "5  Wednesday Night: Mostly clear, with a low arou...        43      True  \n",
       "7  Thursday Night: Partly cloudy, with a low arou...        45      True  "
      ]
     },
     "execution_count": 18,
     "metadata": {},
     "output_type": "execute_result"
    }
   ],
   "source": [
    "weather[is_night]"
   ]
  },
  {
   "cell_type": "code",
   "execution_count": null,
   "metadata": {
    "collapsed": true
   },
   "outputs": [],
   "source": []
  }
 ],
 "metadata": {
  "kernelspec": {
   "display_name": "Python 3",
   "language": "python",
   "name": "python3"
  },
  "language_info": {
   "codemirror_mode": {
    "name": "ipython",
    "version": 3
   },
   "file_extension": ".py",
   "mimetype": "text/x-python",
   "name": "python",
   "nbconvert_exporter": "python",
   "pygments_lexer": "ipython3",
   "version": "3.6.0"
  }
 },
 "nbformat": 4,
 "nbformat_minor": 2
}
